{
 "cells": [
  {
   "cell_type": "markdown",
   "id": "gross-calculator",
   "metadata": {},
   "source": [
    "# Exploratory Data Analysis (EDA)"
   ]
  },
  {
   "cell_type": "markdown",
   "id": "hybrid-survivor",
   "metadata": {},
   "source": [
    "## Imports"
   ]
  },
  {
   "cell_type": "code",
   "execution_count": 122,
   "id": "front-radar",
   "metadata": {},
   "outputs": [],
   "source": [
    "import pandas as pd\n",
    "import numpy as np\n",
    "from matplotlib import pyplot as plt\n",
    "import re\n",
    "import string\n",
    "import pickle\n",
    "import spacy\n",
    "\n",
    "nlp = spacy.load('en_core_web_sm')"
   ]
  },
  {
   "cell_type": "markdown",
   "id": "heated-screw",
   "metadata": {},
   "source": [
    "## Load Datasets"
   ]
  },
  {
   "cell_type": "code",
   "execution_count": 90,
   "id": "treated-fisher",
   "metadata": {},
   "outputs": [
    {
     "data": {
      "text/html": [
       "<div>\n",
       "<style scoped>\n",
       "    .dataframe tbody tr th:only-of-type {\n",
       "        vertical-align: middle;\n",
       "    }\n",
       "\n",
       "    .dataframe tbody tr th {\n",
       "        vertical-align: top;\n",
       "    }\n",
       "\n",
       "    .dataframe thead th {\n",
       "        text-align: right;\n",
       "    }\n",
       "</style>\n",
       "<table border=\"1\" class=\"dataframe\">\n",
       "  <thead>\n",
       "    <tr style=\"text-align: right;\">\n",
       "      <th></th>\n",
       "      <th>episode_id</th>\n",
       "      <th>character</th>\n",
       "      <th>location</th>\n",
       "      <th>raw_text</th>\n",
       "    </tr>\n",
       "  </thead>\n",
       "  <tbody>\n",
       "    <tr>\n",
       "      <th>0</th>\n",
       "      <td>32</td>\n",
       "      <td>Miss Hoover</td>\n",
       "      <td>Springfield Elementary School</td>\n",
       "      <td>No, actually, it was a little of both. Sometim...</td>\n",
       "    </tr>\n",
       "    <tr>\n",
       "      <th>1</th>\n",
       "      <td>32</td>\n",
       "      <td>Lisa Simpson</td>\n",
       "      <td>Springfield Elementary School</td>\n",
       "      <td>Where's Mr. Bergstrom?</td>\n",
       "    </tr>\n",
       "    <tr>\n",
       "      <th>2</th>\n",
       "      <td>32</td>\n",
       "      <td>Miss Hoover</td>\n",
       "      <td>Springfield Elementary School</td>\n",
       "      <td>I don't know. Although I'd sure like to talk t...</td>\n",
       "    </tr>\n",
       "    <tr>\n",
       "      <th>3</th>\n",
       "      <td>32</td>\n",
       "      <td>Lisa Simpson</td>\n",
       "      <td>Springfield Elementary School</td>\n",
       "      <td>That life is worth living.</td>\n",
       "    </tr>\n",
       "    <tr>\n",
       "      <th>4</th>\n",
       "      <td>32</td>\n",
       "      <td>Edna Krabappel-Flanders</td>\n",
       "      <td>Springfield Elementary School</td>\n",
       "      <td>The polls will be open from now until the end ...</td>\n",
       "    </tr>\n",
       "  </tbody>\n",
       "</table>\n",
       "</div>"
      ],
      "text/plain": [
       "   episode_id                character                       location  \\\n",
       "0          32              Miss Hoover  Springfield Elementary School   \n",
       "1          32             Lisa Simpson  Springfield Elementary School   \n",
       "2          32              Miss Hoover  Springfield Elementary School   \n",
       "3          32             Lisa Simpson  Springfield Elementary School   \n",
       "4          32  Edna Krabappel-Flanders  Springfield Elementary School   \n",
       "\n",
       "                                            raw_text  \n",
       "0  No, actually, it was a little of both. Sometim...  \n",
       "1                             Where's Mr. Bergstrom?  \n",
       "2  I don't know. Although I'd sure like to talk t...  \n",
       "3                         That life is worth living.  \n",
       "4  The polls will be open from now until the end ...  "
      ]
     },
     "execution_count": 90,
     "metadata": {},
     "output_type": "execute_result"
    }
   ],
   "source": [
    "scripts_df = pd.read_csv('Data/Processed/simpsons_cleaned_script_lines.csv')\n",
    "episods_df = pd.read_csv('Data/Processed/simpsons_cleaned_episodes.csv')\n",
    "\n",
    "scripts_df.head()"
   ]
  },
  {
   "cell_type": "markdown",
   "id": "tender-commons",
   "metadata": {},
   "source": [
    "## Analysis"
   ]
  },
  {
   "cell_type": "markdown",
   "id": "mechanical-thunder",
   "metadata": {},
   "source": [
    "### Twenty Most Common Words"
   ]
  },
  {
   "cell_type": "code",
   "execution_count": 129,
   "id": "opposite-thesis",
   "metadata": {
    "scrolled": true
   },
   "outputs": [],
   "source": [
    "all_words = []\n",
    "\n",
    "for i, raw_text in enumerate(scripts_df['raw_text']):\n",
    "    \n",
    "    # Convert to lowercase\n",
    "    raw_text = raw_text.lower()\n",
    "    \n",
    "    # Lemmatize and remove stop words\n",
    "    new_text = ' '.join([token.lemma_ for token in nlp(raw_text) if token.lemma_ not in nlp.Defaults.stop_words])\n",
    "    \n",
    "    # Remove punctuation\n",
    "    new_text = new_text.translate(str.maketrans('', '', string.punctuation))\n",
    "    \n",
    "    # Split and add to all_wrds list\n",
    "    all_words += new_text.split()\n",
    "    \n",
    "    # Log\n",
    "    if i % 1000 == 0:\n",
    "        print(f'Processing {i} Script...')"
   ]
  },
  {
   "cell_type": "code",
   "execution_count": 131,
   "id": "essential-canadian",
   "metadata": {},
   "outputs": [
    {
     "data": {
      "image/png": "[encoded data removed]",
      "text/plain": [
       "<Figure size 432x288 with 1 Axes>"
      ]
     },
     "metadata": {
      "needs_background": "light"
     },
     "output_type": "display_data"
    }
   ],
   "source": [
    "word_freq = pd.Series(all_words).value_counts().sort_values(ascending = False)\n",
    "\n",
    "plt.barh(word_freq[:20].keys()[::-1], word_freq[:20].values[::-1])\n",
    "plt.title('Twenty Most Common Words')\n",
    "plt.xlabel('Frequency')\n",
    "plt.ylabel('Words')\n",
    "plt.show()"
   ]
  },
  {
   "cell_type": "markdown",
   "id": "thick-capability",
   "metadata": {},
   "source": [
    "### Ten Most Active Characters"
   ]
  },
  {
   "cell_type": "code",
   "execution_count": 135,
   "id": "local-tours",
   "metadata": {},
   "outputs": [],
   "source": [
    "characters_freq = scripts_df['character'].value_counts().sort_values(ascending = False)\n",
    "\n",
    "plt.barh(characters_freq[:10].keys()[::-1], characters_freq[:10].values[::-1])\n",
    "plt.title('Ten Most Active Words')\n",
    "plt.xlabel('Frequency')\n",
    "plt.ylabel('Character')\n",
    "plt.show()"
   ]
  },
  {
   "cell_type": "code",
   "execution_count": null,
   "id": "designed-attachment",
   "metadata": {},
   "outputs": [],
   "source": []
  },
  {
   "cell_type": "code",
   "execution_count": null,
   "id": "english-short",
   "metadata": {},
   "outputs": [],
   "source": []
  },
  {
   "cell_type": "code",
   "execution_count": null,
   "id": "hidden-excess",
   "metadata": {},
   "outputs": [],
   "source": []
  },
  {
   "cell_type": "code",
   "execution_count": null,
   "id": "second-traveler",
   "metadata": {},
   "outputs": [],
   "source": []
  },
  {
   "cell_type": "code",
   "execution_count": null,
   "id": "employed-perth",
   "metadata": {},
   "outputs": [],
   "source": []
  },
  {
   "cell_type": "code",
   "execution_count": null,
   "id": "olive-placement",
   "metadata": {},
   "outputs": [],
   "source": []
  },
  {
   "cell_type": "code",
   "execution_count": null,
   "id": "molecular-thailand",
   "metadata": {},
   "outputs": [],
   "source": []
  }
 ],
 "metadata": {
  "kernelspec": {
   "display_name": "Python 3",
   "language": "python",
   "name": "python3"
  },
  "language_info": {
   "codemirror_mode": {
    "name": "ipython",
    "version": 3
   },
   "file_extension": ".py",
   "mimetype": "text/x-python",
   "name": "python",
   "nbconvert_exporter": "python",
   "pygments_lexer": "ipython3",
   "version": "3.8.7"
  }
 },
 "nbformat": 4,
 "nbformat_minor": 5
}
