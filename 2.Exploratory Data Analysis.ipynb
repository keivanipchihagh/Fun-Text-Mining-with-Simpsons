{
 "cells": [
  {
   "cell_type": "markdown",
   "id": "proved-cradle",
   "metadata": {},
   "source": [
    "# Exploratory Data Analysis (EDA)"
   ]
  },
  {
   "cell_type": "markdown",
   "id": "emerging-present",
   "metadata": {},
   "source": [
    "## Imports"
   ]
  },
  {
   "cell_type": "code",
   "execution_count": 35,
   "id": "great-hello",
   "metadata": {},
   "outputs": [],
   "source": [
    "import pandas as pd\n",
    "import numpy as np\n",
    "from matplotlib import pyplot as plt\n",
    "import re\n",
    "import string\n",
    "import spacy\n",
    "\n",
    "nlp = spacy.load('en_core_web_sm')"
   ]
  },
  {
   "cell_type": "markdown",
   "id": "tested-fields",
   "metadata": {},
   "source": [
    "## Load Datasets"
   ]
  },
  {
   "cell_type": "code",
   "execution_count": 8,
   "id": "liquid-raising",
   "metadata": {},
   "outputs": [],
   "source": [
    "scripts_df = pd.read_csv('Data/Processed/simpsons_cleaned_script_lines.csv')\n",
    "characters_df = pd.read_csv('Data/Processed/simpsons_cleaned_characters.csv')\n",
    "episods_df = pd.read_csv('Data/Processed/simpsons_cleaned_episodes.csv')\n",
    "locations_df = pd.read_csv('Data/Processed/simpsons_cleaned_locations.csv')"
   ]
  },
  {
   "cell_type": "markdown",
   "id": "thousand-champagne",
   "metadata": {},
   "source": [
    "## Analysis"
   ]
  },
  {
   "cell_type": "markdown",
   "id": "corrected-production",
   "metadata": {},
   "source": [
    "### Twenty Most Common Words"
   ]
  },
  {
   "cell_type": "code",
   "execution_count": 50,
   "id": "musical-elephant",
   "metadata": {
    "scrolled": true
   },
   "outputs": [
    {
     "name": "stdout",
     "output_type": "stream",
     "text": [
      "Processing 0 Script...\n",
      "Processing 1000 Script...\n",
      "Processing 2000 Script...\n",
      "Processing 3000 Script...\n",
      "Processing 4000 Script...\n",
      "Processing 5000 Script...\n",
      "Processing 6000 Script...\n",
      "Processing 7000 Script...\n",
      "Processing 8000 Script...\n",
      "Processing 9000 Script...\n",
      "Processing 10000 Script...\n",
      "Processing 11000 Script...\n",
      "Processing 12000 Script...\n",
      "Processing 13000 Script...\n",
      "Processing 14000 Script...\n",
      "Processing 15000 Script...\n",
      "Processing 16000 Script...\n",
      "Processing 17000 Script...\n",
      "Processing 18000 Script...\n",
      "Processing 19000 Script...\n",
      "Processing 20000 Script...\n",
      "Processing 21000 Script...\n",
      "Processing 22000 Script...\n",
      "Processing 23000 Script...\n",
      "Processing 24000 Script...\n",
      "Processing 25000 Script...\n",
      "Processing 26000 Script...\n",
      "Processing 27000 Script...\n",
      "Processing 28000 Script...\n",
      "Processing 29000 Script...\n",
      "Processing 30000 Script...\n",
      "Processing 31000 Script...\n",
      "Processing 32000 Script...\n",
      "Processing 33000 Script...\n",
      "Processing 34000 Script...\n",
      "Processing 35000 Script...\n",
      "Processing 36000 Script...\n",
      "Processing 37000 Script...\n",
      "Processing 38000 Script...\n",
      "Processing 39000 Script...\n",
      "Processing 40000 Script...\n",
      "Processing 41000 Script...\n",
      "Processing 42000 Script...\n",
      "Processing 43000 Script...\n",
      "Processing 44000 Script...\n",
      "Processing 45000 Script...\n",
      "Processing 46000 Script...\n",
      "Processing 47000 Script...\n",
      "Processing 48000 Script...\n",
      "Processing 49000 Script...\n",
      "Processing 50000 Script...\n",
      "Processing 51000 Script...\n",
      "Processing 52000 Script...\n",
      "Processing 53000 Script...\n",
      "Processing 54000 Script...\n",
      "Processing 55000 Script...\n",
      "Processing 56000 Script...\n",
      "Processing 57000 Script...\n",
      "Processing 58000 Script...\n",
      "Processing 59000 Script...\n",
      "Processing 60000 Script...\n",
      "Processing 61000 Script...\n",
      "Processing 62000 Script...\n",
      "Processing 63000 Script...\n",
      "Processing 64000 Script...\n",
      "Processing 65000 Script...\n",
      "Processing 66000 Script...\n",
      "Processing 67000 Script...\n",
      "Processing 68000 Script...\n",
      "Processing 69000 Script...\n",
      "Processing 70000 Script...\n",
      "Processing 71000 Script...\n",
      "Processing 72000 Script...\n",
      "Processing 73000 Script...\n",
      "Processing 74000 Script...\n",
      "Processing 75000 Script...\n",
      "Processing 76000 Script...\n",
      "Processing 77000 Script...\n",
      "Processing 78000 Script...\n",
      "Processing 79000 Script...\n",
      "Processing 80000 Script...\n",
      "Processing 81000 Script...\n",
      "Processing 82000 Script...\n",
      "Processing 83000 Script...\n",
      "Processing 84000 Script...\n",
      "Processing 85000 Script...\n",
      "Processing 86000 Script...\n",
      "Processing 87000 Script...\n",
      "Processing 88000 Script...\n",
      "Processing 89000 Script...\n",
      "Processing 90000 Script...\n",
      "Processing 91000 Script...\n",
      "Processing 92000 Script...\n",
      "Processing 93000 Script...\n",
      "Processing 94000 Script...\n",
      "Processing 95000 Script...\n",
      "Processing 96000 Script...\n",
      "Processing 97000 Script...\n",
      "Processing 98000 Script...\n",
      "Processing 99000 Script...\n",
      "Processing 100000 Script...\n",
      "Processing 101000 Script...\n",
      "Processing 102000 Script...\n",
      "Processing 103000 Script...\n",
      "Processing 104000 Script...\n",
      "Processing 105000 Script...\n",
      "Processing 106000 Script...\n",
      "Processing 107000 Script...\n",
      "Processing 108000 Script...\n",
      "Processing 109000 Script...\n",
      "Processing 110000 Script...\n",
      "Processing 111000 Script...\n",
      "Processing 112000 Script...\n",
      "Processing 113000 Script...\n",
      "Processing 114000 Script...\n",
      "Processing 115000 Script...\n",
      "Processing 116000 Script...\n",
      "Processing 117000 Script...\n",
      "Processing 118000 Script...\n",
      "Processing 119000 Script...\n",
      "Processing 120000 Script...\n",
      "Processing 121000 Script...\n",
      "Processing 122000 Script...\n",
      "Processing 123000 Script...\n",
      "Processing 124000 Script...\n",
      "Processing 125000 Script...\n",
      "Processing 126000 Script...\n",
      "Processing 127000 Script...\n",
      "Processing 128000 Script...\n",
      "Processing 129000 Script...\n",
      "Processing 130000 Script...\n",
      "Processing 131000 Script...\n",
      "Processing 132000 Script...\n"
     ]
    }
   ],
   "source": [
    "all_words = []\n",
    "\n",
    "for i, raw_text in enumerate(scripts_df['raw_text']):\n",
    "    \n",
    "    # Lemmatize, convert to loweracase, remove stop words\n",
    "    new_text = ' '.join([token.lemma_ for token in nlp(raw_text) if token.lemma_ not in nlp.Defaults.stop_words])\n",
    "    \n",
    "    # Remove punctuation\n",
    "    new_text = new_text.translate(str.maketrans('', '', string.punctuation))\n",
    "    \n",
    "    # Split and add to all_wrds list\n",
    "    all_words += new_text.lower().split()\n",
    "    \n",
    "    # Log\n",
    "    if i % 1000 == 0:\n",
    "        print(f'Processing {i} Script...')"
   ]
  },
  {
   "cell_type": "code",
   "execution_count": 76,
   "id": "dying-canon",
   "metadata": {},
   "outputs": [
    {
     "data": {
      "image/png": "[encoded data removed]",
      "text/plain": [
       "<Figure size 432x288 with 1 Axes>"
      ]
     },
     "metadata": {
      "needs_background": "light"
     },
     "output_type": "display_data"
    }
   ],
   "source": [
    "word_freq = pd.Series(all_words).value_counts().sort_values(ascending = False)\n",
    "\n",
    "plt.barh(word_freq[:10].keys()[::-1], word_freq[:10].values[::-1])\n",
    "plt.title('Twenty Most Common Words')\n",
    "plt.xlabel('Frequency')\n",
    "plt.ylabel('Words')\n",
    "plt.show()"
   ]
  },
  {
   "cell_type": "code",
   "execution_count": null,
   "id": "saved-break",
   "metadata": {},
   "outputs": [],
   "source": []
  },
  {
   "cell_type": "code",
   "execution_count": null,
   "id": "elegant-anniversary",
   "metadata": {},
   "outputs": [],
   "source": []
  },
  {
   "cell_type": "code",
   "execution_count": null,
   "id": "recent-maximum",
   "metadata": {},
   "outputs": [],
   "source": []
  },
  {
   "cell_type": "code",
   "execution_count": null,
   "id": "dirty-employment",
   "metadata": {},
   "outputs": [],
   "source": []
  },
  {
   "cell_type": "code",
   "execution_count": null,
   "id": "interpreted-think",
   "metadata": {},
   "outputs": [],
   "source": []
  },
  {
   "cell_type": "code",
   "execution_count": null,
   "id": "quality-appraisal",
   "metadata": {},
   "outputs": [],
   "source": []
  },
  {
   "cell_type": "code",
   "execution_count": null,
   "id": "statistical-antarctica",
   "metadata": {},
   "outputs": [],
   "source": []
  },
  {
   "cell_type": "code",
   "execution_count": null,
   "id": "unusual-operations",
   "metadata": {},
   "outputs": [],
   "source": []
  },
  {
   "cell_type": "code",
   "execution_count": null,
   "id": "lasting-medicaid",
   "metadata": {},
   "outputs": [],
   "source": []
  }
 ],
 "metadata": {
  "kernelspec": {
   "display_name": "Python 3",
   "language": "python",
   "name": "python3"
  },
  "language_info": {
   "codemirror_mode": {
    "name": "ipython",
    "version": 3
   },
   "file_extension": ".py",
   "mimetype": "text/x-python",
   "name": "python",
   "nbconvert_exporter": "python",
   "pygments_lexer": "ipython3",
   "version": "3.8.7"
  }
 },
 "nbformat": 4,
 "nbformat_minor": 5
}
