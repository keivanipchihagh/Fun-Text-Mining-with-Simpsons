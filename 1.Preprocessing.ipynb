{
 "cells": [
  {
   "cell_type": "markdown",
   "id": "negative-triangle",
   "metadata": {},
   "source": [
    "# Preprocessing"
   ]
  },
  {
   "cell_type": "markdown",
   "id": "dental-municipality",
   "metadata": {},
   "source": [
    "## Imports"
   ]
  },
  {
   "cell_type": "code",
   "execution_count": 67,
   "id": "incorporate-holiday",
   "metadata": {},
   "outputs": [],
   "source": [
    "import pandas as pd\n",
    "import numpy as np\n",
    "import spacy\n",
    "\n",
    "nlp = spacy.load('en_core_web_sm')"
   ]
  },
  {
   "cell_type": "markdown",
   "id": "declared-development",
   "metadata": {},
   "source": [
    "## Load Datasets"
   ]
  },
  {
   "cell_type": "code",
   "execution_count": 68,
   "id": "living-sheriff",
   "metadata": {},
   "outputs": [],
   "source": [
    "scripts_df = pd.read_csv('Data/Raw/simpsons_script_lines.csv', dtype = 'unicode')\n",
    "characters_df = pd.read_csv('Data/Raw/simpsons_characters.csv', dtype = 'unicode')\n",
    "episods_df = pd.read_csv('Data/Raw/simpsons_episodes.csv', dtype = 'unicode')\n",
    "locations_df = pd.read_csv('Data/Raw/simpsons_locations.csv', dtype = 'unicode')"
   ]
  },
  {
   "cell_type": "markdown",
   "id": "metric-generator",
   "metadata": {},
   "source": [
    "## Preprocessing"
   ]
  },
  {
   "cell_type": "markdown",
   "id": "smooth-athletics",
   "metadata": {},
   "source": [
    "### Drop Irrelevant Columns"
   ]
  },
  {
   "cell_type": "code",
   "execution_count": 69,
   "id": "outside-brooklyn",
   "metadata": {},
   "outputs": [],
   "source": [
    "# lcoation_df\n",
    "locations_df.drop(columns = ['name'], inplace = True)\n",
    "\n",
    "# episods_df\n",
    "episods_df.drop(columns = ['image_url', 'original_air_year', 'video_url', 'production_code', 'views'], inplace = True)\n",
    "\n",
    "# characters_df\n",
    "characters_df.drop(columns = ['normalized_name', 'gender'], inplace = True)\n",
    "\n",
    "# scripts_df\n",
    "scripts_df.drop(columns = ['word_count', 'raw_character_text', 'raw_location_text', 'timestamp_in_ms', 'normalized_text', 'raw_text', 'number'], inplace = True)"
   ]
  },
  {
   "cell_type": "markdown",
   "id": "boolean-portsmouth",
   "metadata": {},
   "source": [
    "### Fix Types"
   ]
  },
  {
   "cell_type": "code",
   "execution_count": 70,
   "id": "copyrighted-dealer",
   "metadata": {
    "scrolled": true
   },
   "outputs": [],
   "source": [
    "# location_df\n",
    "locations_df['id'] = locations_df['id'].astype(int)\n",
    "\n",
    "# episodes_df\n",
    "episodes_types = {\n",
    "    'id': int,\n",
    "    'imdb_rating': float,\n",
    "    'imdb_votes': float,\n",
    "    'number_in_season': int,\n",
    "    'number_in_series': int,\n",
    "    'season': int,\n",
    "    'us_viewers_in_millions': float,    \n",
    "}\n",
    "episods_df = episods_df.astype(episodes_types)\n",
    "episods_df['original_air_date'] = pd.to_datetime(episods_df['original_air_date'], format = '%Y-%m-%d')\n",
    "\n",
    "# characters_df\n",
    "characters_df['id'] = characters_df['id'].astype(int)\n",
    "\n",
    "# scripts_df\n",
    "scripts_types = {\n",
    "    'id': int,\n",
    "    'episode_id': int,\n",
    "    'character_id': int,\n",
    "    'location_id': int,\n",
    "    \n",
    "}"
   ]
  },
  {
   "cell_type": "markdown",
   "id": "adapted-tackle",
   "metadata": {},
   "source": [
    "### Rename Columns, Fix Formattings, Dropped Rows"
   ]
  },
  {
   "cell_type": "code",
   "execution_count": 71,
   "id": "guilty-patrick",
   "metadata": {},
   "outputs": [],
   "source": [
    "# Rename columns\n",
    "episods_df.rename(columns = {'imdb_rating': 'imdb', 'original_air_date': 'datetime', 'us_viewers_in_millions': 'us_viewers'}, inplace = True)\n",
    "\n",
    "# Convert to original numeric format\n",
    "episods_df['us_viewers'] = episods_df['us_viewers'].apply(lambda x: x * (10 ** 6))"
   ]
  },
  {
   "cell_type": "code",
   "execution_count": 72,
   "id": "single-determination",
   "metadata": {},
   "outputs": [
    {
     "data": {
      "text/html": [
       "<div>\n",
       "<style scoped>\n",
       "    .dataframe tbody tr th:only-of-type {\n",
       "        vertical-align: middle;\n",
       "    }\n",
       "\n",
       "    .dataframe tbody tr th {\n",
       "        vertical-align: top;\n",
       "    }\n",
       "\n",
       "    .dataframe thead th {\n",
       "        text-align: right;\n",
       "    }\n",
       "</style>\n",
       "<table border=\"1\" class=\"dataframe\">\n",
       "  <thead>\n",
       "    <tr style=\"text-align: right;\">\n",
       "      <th></th>\n",
       "      <th>id</th>\n",
       "      <th>episode_id</th>\n",
       "      <th>speaking_line</th>\n",
       "      <th>character_id</th>\n",
       "      <th>location_id</th>\n",
       "      <th>spoken_words</th>\n",
       "    </tr>\n",
       "  </thead>\n",
       "  <tbody>\n",
       "    <tr>\n",
       "      <th>0</th>\n",
       "      <td>9549</td>\n",
       "      <td>32</td>\n",
       "      <td>true</td>\n",
       "      <td>464</td>\n",
       "      <td>3</td>\n",
       "      <td>No, actually, it was a little of both. Sometim...</td>\n",
       "    </tr>\n",
       "    <tr>\n",
       "      <th>1</th>\n",
       "      <td>9550</td>\n",
       "      <td>32</td>\n",
       "      <td>true</td>\n",
       "      <td>9</td>\n",
       "      <td>3</td>\n",
       "      <td>Where's Mr. Bergstrom?</td>\n",
       "    </tr>\n",
       "    <tr>\n",
       "      <th>2</th>\n",
       "      <td>9551</td>\n",
       "      <td>32</td>\n",
       "      <td>true</td>\n",
       "      <td>464</td>\n",
       "      <td>3</td>\n",
       "      <td>I don't know. Although I'd sure like to talk t...</td>\n",
       "    </tr>\n",
       "    <tr>\n",
       "      <th>3</th>\n",
       "      <td>9552</td>\n",
       "      <td>32</td>\n",
       "      <td>true</td>\n",
       "      <td>9</td>\n",
       "      <td>3</td>\n",
       "      <td>That life is worth living.</td>\n",
       "    </tr>\n",
       "    <tr>\n",
       "      <th>4</th>\n",
       "      <td>9553</td>\n",
       "      <td>32</td>\n",
       "      <td>true</td>\n",
       "      <td>40</td>\n",
       "      <td>3</td>\n",
       "      <td>The polls will be open from now until the end ...</td>\n",
       "    </tr>\n",
       "  </tbody>\n",
       "</table>\n",
       "</div>"
      ],
      "text/plain": [
       "     id episode_id speaking_line character_id location_id  \\\n",
       "0  9549         32          true          464           3   \n",
       "1  9550         32          true            9           3   \n",
       "2  9551         32          true          464           3   \n",
       "3  9552         32          true            9           3   \n",
       "4  9553         32          true           40           3   \n",
       "\n",
       "                                        spoken_words  \n",
       "0  No, actually, it was a little of both. Sometim...  \n",
       "1                             Where's Mr. Bergstrom?  \n",
       "2  I don't know. Although I'd sure like to talk t...  \n",
       "3                         That life is worth living.  \n",
       "4  The polls will be open from now until the end ...  "
      ]
     },
     "execution_count": 72,
     "metadata": {},
     "output_type": "execute_result"
    }
   ],
   "source": [
    "scripts_df.head()"
   ]
  },
  {
   "cell_type": "code",
   "execution_count": 78,
   "id": "productive-pendant",
   "metadata": {
    "scrolled": true
   },
   "outputs": [
    {
     "data": {
      "text/plain": [
       "(26158, 6)"
      ]
     },
     "execution_count": 78,
     "metadata": {},
     "output_type": "execute_result"
    }
   ],
   "source": [
    "scripts_df[scripts_df['speaking_line'] == 'false'].shape"
   ]
  },
  {
   "cell_type": "code",
   "execution_count": null,
   "id": "cordless-ridge",
   "metadata": {},
   "outputs": [],
   "source": []
  },
  {
   "cell_type": "code",
   "execution_count": null,
   "id": "pending-sitting",
   "metadata": {},
   "outputs": [],
   "source": []
  },
  {
   "cell_type": "code",
   "execution_count": null,
   "id": "lucky-sugar",
   "metadata": {},
   "outputs": [],
   "source": []
  },
  {
   "cell_type": "code",
   "execution_count": null,
   "id": "invisible-territory",
   "metadata": {},
   "outputs": [],
   "source": []
  },
  {
   "cell_type": "code",
   "execution_count": null,
   "id": "acknowledged-cancellation",
   "metadata": {},
   "outputs": [],
   "source": []
  },
  {
   "cell_type": "code",
   "execution_count": null,
   "id": "square-teaching",
   "metadata": {},
   "outputs": [],
   "source": []
  }
 ],
 "metadata": {
  "kernelspec": {
   "display_name": "Python 3",
   "language": "python",
   "name": "python3"
  },
  "language_info": {
   "codemirror_mode": {
    "name": "ipython",
    "version": 3
   },
   "file_extension": ".py",
   "mimetype": "text/x-python",
   "name": "python",
   "nbconvert_exporter": "python",
   "pygments_lexer": "ipython3",
   "version": "3.8.7"
  }
 },
 "nbformat": 4,
 "nbformat_minor": 5
}
