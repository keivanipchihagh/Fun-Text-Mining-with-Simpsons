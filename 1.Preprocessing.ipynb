{
 "cells": [
  {
   "cell_type": "markdown",
   "id": "superior-gateway",
   "metadata": {},
   "source": [
    "# Preprocessing"
   ]
  },
  {
   "cell_type": "markdown",
   "id": "thorough-yorkshire",
   "metadata": {},
   "source": [
    "## Imports"
   ]
  },
  {
   "cell_type": "code",
   "execution_count": 110,
   "id": "passing-reynolds",
   "metadata": {},
   "outputs": [],
   "source": [
    "import pandas as pd\n",
    "import numpy as np\n",
    "import spacy\n",
    "\n",
    "nlp = spacy.load('en_core_web_sm')"
   ]
  },
  {
   "cell_type": "markdown",
   "id": "bearing-kingston",
   "metadata": {},
   "source": [
    "## Load Datasets"
   ]
  },
  {
   "cell_type": "code",
   "execution_count": 111,
   "id": "outdoor-wealth",
   "metadata": {},
   "outputs": [],
   "source": [
    "scripts_df = pd.read_csv('Data/Raw/simpsons_script_lines.csv', dtype = 'unicode')\n",
    "characters_df = pd.read_csv('Data/Raw/simpsons_characters.csv', dtype = 'unicode')\n",
    "episods_df = pd.read_csv('Data/Raw/simpsons_episodes.csv', dtype = 'unicode')\n",
    "locations_df = pd.read_csv('Data/Raw/simpsons_locations.csv', dtype = 'unicode')"
   ]
  },
  {
   "cell_type": "markdown",
   "id": "indie-earth",
   "metadata": {},
   "source": [
    "## Cleanup"
   ]
  },
  {
   "cell_type": "markdown",
   "id": "pointed-volleyball",
   "metadata": {},
   "source": [
    "### Drop Irrelevant Columns"
   ]
  },
  {
   "cell_type": "code",
   "execution_count": 112,
   "id": "standard-shoulder",
   "metadata": {},
   "outputs": [],
   "source": [
    "# lcoation_df\n",
    "locations_df.drop(columns = ['name'], inplace = True)\n",
    "\n",
    "# episods_df\n",
    "episods_df.drop(columns = ['image_url', 'original_air_year', 'video_url', 'production_code', 'views'], inplace = True)\n",
    "\n",
    "# characters_df\n",
    "characters_df.drop(columns = ['normalized_name', 'gender'], inplace = True)\n",
    "\n",
    "# scripts_df\n",
    "scripts_df.drop(columns = ['word_count', 'raw_character_text', 'raw_location_text', 'timestamp_in_ms', 'normalized_text', 'raw_text', 'number', 'id'], inplace = True)"
   ]
  },
  {
   "cell_type": "markdown",
   "id": "literary-trust",
   "metadata": {},
   "source": [
    "### Fix Types"
   ]
  },
  {
   "cell_type": "code",
   "execution_count": 113,
   "id": "stock-thunder",
   "metadata": {
    "scrolled": true
   },
   "outputs": [],
   "source": [
    "# location_df\n",
    "locations_df['id'] = locations_df['id'].astype(int)\n",
    "\n",
    "# episodes_df\n",
    "episodes_types = {\n",
    "    'id': int,\n",
    "    'imdb_rating': float,\n",
    "    'imdb_votes': float,\n",
    "    'number_in_season': int,\n",
    "    'number_in_series': int,\n",
    "    'season': int,\n",
    "    'us_viewers_in_millions': float,    \n",
    "}\n",
    "episods_df = episods_df.astype(episodes_types)\n",
    "episods_df['original_air_date'] = pd.to_datetime(episods_df['original_air_date'], format = '%Y-%m-%d')\n",
    "\n",
    "# characters_df\n",
    "characters_df['id'] = characters_df['id'].astype(int)\n",
    "\n",
    "# scripts_df\n",
    "scripts_types = {\n",
    "    'id': int,\n",
    "    'episode_id': int,\n",
    "    'character_id': int,\n",
    "    'location_id': int,    \n",
    "}\n",
    "episods_df = episods_df.astype(episodes_types)"
   ]
  },
  {
   "cell_type": "markdown",
   "id": "blessed-japan",
   "metadata": {},
   "source": [
    "### More Filtering"
   ]
  },
  {
   "cell_type": "code",
   "execution_count": 114,
   "id": "considerable-rescue",
   "metadata": {},
   "outputs": [],
   "source": [
    "# Rename columns of episods_df\n",
    "episods_df.rename(columns = {'imdb_rating': 'imdb', 'original_air_date': 'datetime', 'us_viewers_in_millions': 'us_viewers'}, inplace = True)\n",
    "\n",
    "# Convert 'us_viewers' from episods_df to original numeric format\n",
    "episods_df['us_viewers'] = episods_df['us_viewers'].apply(lambda x: x * (10 ** 6))\n",
    "\n",
    "# Drop unspokon scripts from scripts_df\n",
    "scripts_df = scripts_df[scripts_df['speaking_line'] == 'true']\n",
    "scripts_df.drop(columns = ['speaking_line'], inplace = True)\n",
    "scripts_df.rename(columns = {'spoken_words': 'raw_text'}, inplace = True)"
   ]
  },
  {
   "cell_type": "markdown",
   "id": "complimentary-shape",
   "metadata": {},
   "source": [
    "## Save Datasets"
   ]
  },
  {
   "cell_type": "code",
   "execution_count": 142,
   "id": "executive-boundary",
   "metadata": {},
   "outputs": [],
   "source": [
    "scripts_df.to_csv('Data/Processed/simpsons_cleaned_script_lines.csv', index = False)\n",
    "characters_df.to_csv('Data/Processed/simpsons_cleaned_characters.csv', index = False)\n",
    "episods_df.to_csv('Data/Processed/simpsons_cleaned_episodes.csv', index = False)\n",
    "locations_df.to_csv('Data/Processed/simpsons_cleaned_locations.csv', index = False)"
   ]
  }
 ],
 "metadata": {
  "kernelspec": {
   "display_name": "Python 3",
   "language": "python",
   "name": "python3"
  },
  "language_info": {
   "codemirror_mode": {
    "name": "ipython",
    "version": 3
   },
   "file_extension": ".py",
   "mimetype": "text/x-python",
   "name": "python",
   "nbconvert_exporter": "python",
   "pygments_lexer": "ipython3",
   "version": "3.8.7"
  }
 },
 "nbformat": 4,
 "nbformat_minor": 5
}
