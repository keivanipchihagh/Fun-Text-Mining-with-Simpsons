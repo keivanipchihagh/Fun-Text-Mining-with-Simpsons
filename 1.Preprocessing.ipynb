{
 "cells": [
  {
   "cell_type": "markdown",
   "id": "earned-deadline",
   "metadata": {},
   "source": [
    "# Preprocessing"
   ]
  },
  {
   "cell_type": "markdown",
   "id": "twenty-restoration",
   "metadata": {},
   "source": [
    "## Imports"
   ]
  },
  {
   "cell_type": "code",
   "execution_count": 1,
   "id": "suited-auckland",
   "metadata": {},
   "outputs": [],
   "source": [
    "import pandas as pd\n",
    "import numpy as np\n",
    "import spacy\n",
    "\n",
    "nlp = spacy.load('en_core_web_sm')"
   ]
  },
  {
   "cell_type": "markdown",
   "id": "agricultural-typing",
   "metadata": {},
   "source": [
    "## Load Datasets"
   ]
  },
  {
   "cell_type": "code",
   "execution_count": 2,
   "id": "loved-studio",
   "metadata": {},
   "outputs": [
    {
     "data": {
      "text/html": [
       "<div>\n",
       "<style scoped>\n",
       "    .dataframe tbody tr th:only-of-type {\n",
       "        vertical-align: middle;\n",
       "    }\n",
       "\n",
       "    .dataframe tbody tr th {\n",
       "        vertical-align: top;\n",
       "    }\n",
       "\n",
       "    .dataframe thead th {\n",
       "        text-align: right;\n",
       "    }\n",
       "</style>\n",
       "<table border=\"1\" class=\"dataframe\">\n",
       "  <thead>\n",
       "    <tr style=\"text-align: right;\">\n",
       "      <th></th>\n",
       "      <th>id</th>\n",
       "      <th>episode_id</th>\n",
       "      <th>number</th>\n",
       "      <th>raw_text</th>\n",
       "      <th>timestamp_in_ms</th>\n",
       "      <th>speaking_line</th>\n",
       "      <th>character_id</th>\n",
       "      <th>location_id</th>\n",
       "      <th>raw_character_text</th>\n",
       "      <th>raw_location_text</th>\n",
       "      <th>spoken_words</th>\n",
       "      <th>normalized_text</th>\n",
       "      <th>word_count</th>\n",
       "    </tr>\n",
       "  </thead>\n",
       "  <tbody>\n",
       "    <tr>\n",
       "      <th>0</th>\n",
       "      <td>9549</td>\n",
       "      <td>32</td>\n",
       "      <td>209</td>\n",
       "      <td>Miss Hoover: No, actually, it was a little of ...</td>\n",
       "      <td>848000</td>\n",
       "      <td>true</td>\n",
       "      <td>464</td>\n",
       "      <td>3</td>\n",
       "      <td>Miss Hoover</td>\n",
       "      <td>Springfield Elementary School</td>\n",
       "      <td>No, actually, it was a little of both. Sometim...</td>\n",
       "      <td>no actually it was a little of both sometimes ...</td>\n",
       "      <td>31</td>\n",
       "    </tr>\n",
       "    <tr>\n",
       "      <th>1</th>\n",
       "      <td>9550</td>\n",
       "      <td>32</td>\n",
       "      <td>210</td>\n",
       "      <td>Lisa Simpson: (NEAR TEARS) Where's Mr. Bergstrom?</td>\n",
       "      <td>856000</td>\n",
       "      <td>true</td>\n",
       "      <td>9</td>\n",
       "      <td>3</td>\n",
       "      <td>Lisa Simpson</td>\n",
       "      <td>Springfield Elementary School</td>\n",
       "      <td>Where's Mr. Bergstrom?</td>\n",
       "      <td>wheres mr bergstrom</td>\n",
       "      <td>3</td>\n",
       "    </tr>\n",
       "    <tr>\n",
       "      <th>2</th>\n",
       "      <td>9551</td>\n",
       "      <td>32</td>\n",
       "      <td>211</td>\n",
       "      <td>Miss Hoover: I don't know. Although I'd sure l...</td>\n",
       "      <td>856000</td>\n",
       "      <td>true</td>\n",
       "      <td>464</td>\n",
       "      <td>3</td>\n",
       "      <td>Miss Hoover</td>\n",
       "      <td>Springfield Elementary School</td>\n",
       "      <td>I don't know. Although I'd sure like to talk t...</td>\n",
       "      <td>i dont know although id sure like to talk to h...</td>\n",
       "      <td>22</td>\n",
       "    </tr>\n",
       "    <tr>\n",
       "      <th>3</th>\n",
       "      <td>9552</td>\n",
       "      <td>32</td>\n",
       "      <td>212</td>\n",
       "      <td>Lisa Simpson: That life is worth living.</td>\n",
       "      <td>864000</td>\n",
       "      <td>true</td>\n",
       "      <td>9</td>\n",
       "      <td>3</td>\n",
       "      <td>Lisa Simpson</td>\n",
       "      <td>Springfield Elementary School</td>\n",
       "      <td>That life is worth living.</td>\n",
       "      <td>that life is worth living</td>\n",
       "      <td>5</td>\n",
       "    </tr>\n",
       "    <tr>\n",
       "      <th>4</th>\n",
       "      <td>9553</td>\n",
       "      <td>32</td>\n",
       "      <td>213</td>\n",
       "      <td>Edna Krabappel-Flanders: The polls will be ope...</td>\n",
       "      <td>864000</td>\n",
       "      <td>true</td>\n",
       "      <td>40</td>\n",
       "      <td>3</td>\n",
       "      <td>Edna Krabappel-Flanders</td>\n",
       "      <td>Springfield Elementary School</td>\n",
       "      <td>The polls will be open from now until the end ...</td>\n",
       "      <td>the polls will be open from now until the end ...</td>\n",
       "      <td>33</td>\n",
       "    </tr>\n",
       "  </tbody>\n",
       "</table>\n",
       "</div>"
      ],
      "text/plain": [
       "     id episode_id number                                           raw_text  \\\n",
       "0  9549         32    209  Miss Hoover: No, actually, it was a little of ...   \n",
       "1  9550         32    210  Lisa Simpson: (NEAR TEARS) Where's Mr. Bergstrom?   \n",
       "2  9551         32    211  Miss Hoover: I don't know. Although I'd sure l...   \n",
       "3  9552         32    212           Lisa Simpson: That life is worth living.   \n",
       "4  9553         32    213  Edna Krabappel-Flanders: The polls will be ope...   \n",
       "\n",
       "  timestamp_in_ms speaking_line character_id location_id  \\\n",
       "0          848000          true          464           3   \n",
       "1          856000          true            9           3   \n",
       "2          856000          true          464           3   \n",
       "3          864000          true            9           3   \n",
       "4          864000          true           40           3   \n",
       "\n",
       "        raw_character_text              raw_location_text  \\\n",
       "0              Miss Hoover  Springfield Elementary School   \n",
       "1             Lisa Simpson  Springfield Elementary School   \n",
       "2              Miss Hoover  Springfield Elementary School   \n",
       "3             Lisa Simpson  Springfield Elementary School   \n",
       "4  Edna Krabappel-Flanders  Springfield Elementary School   \n",
       "\n",
       "                                        spoken_words  \\\n",
       "0  No, actually, it was a little of both. Sometim...   \n",
       "1                             Where's Mr. Bergstrom?   \n",
       "2  I don't know. Although I'd sure like to talk t...   \n",
       "3                         That life is worth living.   \n",
       "4  The polls will be open from now until the end ...   \n",
       "\n",
       "                                     normalized_text word_count  \n",
       "0  no actually it was a little of both sometimes ...         31  \n",
       "1                                wheres mr bergstrom          3  \n",
       "2  i dont know although id sure like to talk to h...         22  \n",
       "3                          that life is worth living          5  \n",
       "4  the polls will be open from now until the end ...         33  "
      ]
     },
     "execution_count": 2,
     "metadata": {},
     "output_type": "execute_result"
    }
   ],
   "source": [
    "scripts_df = pd.read_csv('Data/Raw/simpsons_script_lines.csv', dtype = 'unicode')\n",
    "characters_df = pd.read_csv('Data/Raw/simpsons_characters.csv', dtype = 'unicode')\n",
    "episods_df = pd.read_csv('Data/Raw/simpsons_episodes.csv', dtype = 'unicode')\n",
    "locations_df = pd.read_csv('Data/Raw/simpsons_locations.csv', dtype = 'unicode')\n",
    "\n",
    "scripts_df.head()"
   ]
  },
  {
   "cell_type": "markdown",
   "id": "changing-layout",
   "metadata": {},
   "source": [
    "## Cleanup"
   ]
  },
  {
   "cell_type": "markdown",
   "id": "dominican-jerusalem",
   "metadata": {},
   "source": [
    "### Drop Irrelevant Columns"
   ]
  },
  {
   "cell_type": "code",
   "execution_count": 3,
   "id": "enabling-enhancement",
   "metadata": {},
   "outputs": [],
   "source": [
    "# lcoation_df\n",
    "locations_df.drop(columns = ['name'], inplace = True)\n",
    "\n",
    "# episods_df\n",
    "episods_df.drop(columns = ['image_url', 'original_air_year', 'video_url', 'production_code', 'views'], inplace = True)\n",
    "\n",
    "# characters_df\n",
    "characters_df.drop(columns = ['normalized_name', 'gender'], inplace = True)\n",
    "\n",
    "# scripts_df\n",
    "scripts_df.drop(columns = ['word_count', 'character_id', 'location_id', 'timestamp_in_ms', 'normalized_text', 'raw_text', 'number', 'id'], inplace = True)"
   ]
  },
  {
   "cell_type": "markdown",
   "id": "above-belfast",
   "metadata": {},
   "source": [
    "### Fix Types"
   ]
  },
  {
   "cell_type": "code",
   "execution_count": 4,
   "id": "injured-trial",
   "metadata": {
    "scrolled": true
   },
   "outputs": [],
   "source": [
    "# location_df\n",
    "locations_df['id'] = locations_df['id'].astype(int)\n",
    "\n",
    "# episodes_df\n",
    "episodes_types = {\n",
    "    'id': int,\n",
    "    'imdb_rating': float,\n",
    "    'imdb_votes': float,\n",
    "    'number_in_season': int,\n",
    "    'number_in_series': int,\n",
    "    'season': int,\n",
    "    'us_viewers_in_millions': float,    \n",
    "}\n",
    "episods_df = episods_df.astype(episodes_types)\n",
    "episods_df['original_air_date'] = pd.to_datetime(episods_df['original_air_date'], format = '%Y-%m-%d')\n",
    "\n",
    "# characters_df\n",
    "characters_df['id'] = characters_df['id'].astype(int)\n",
    "\n",
    "# scripts_df\n",
    "scripts_types = {\n",
    "    'id': int,\n",
    "    'episode_id': int,\n",
    "    'character_id': int,\n",
    "    'location_id': int,    \n",
    "}\n",
    "episods_df = episods_df.astype(episodes_types)"
   ]
  },
  {
   "cell_type": "markdown",
   "id": "desirable-tooth",
   "metadata": {},
   "source": [
    "### More Filtering"
   ]
  },
  {
   "cell_type": "code",
   "execution_count": 5,
   "id": "tutorial-trinity",
   "metadata": {},
   "outputs": [],
   "source": [
    "# Rename columns of episods_df\n",
    "episods_df.rename(columns = {'imdb_rating': 'imdb', 'original_air_date': 'datetime', 'us_viewers_in_millions': 'us_viewers'}, inplace = True)\n",
    "\n",
    "# Convert 'us_viewers' from episods_df to original numeric format\n",
    "episods_df['us_viewers'] = episods_df['us_viewers'].apply(lambda x: x * (10 ** 6))\n",
    "\n",
    "# Drop unspokon scripts from scripts_df\n",
    "scripts_df = scripts_df[scripts_df['speaking_line'] == 'true']\n",
    "scripts_df.drop(columns = ['speaking_line'], inplace = True)\n",
    "scripts_df.rename(columns = {'spoken_words': 'raw_text', 'raw_character_text': 'character', 'raw_location_text': 'location'}, inplace = True)"
   ]
  },
  {
   "cell_type": "markdown",
   "id": "nonprofit-cattle",
   "metadata": {},
   "source": [
    "## Save Datasets"
   ]
  },
  {
   "cell_type": "code",
   "execution_count": 6,
   "id": "golden-addition",
   "metadata": {},
   "outputs": [],
   "source": [
    "scripts_df.to_csv('Data/Processed/simpsons_cleaned_script_lines.csv', index = False)\n",
    "episods_df.to_csv('Data/Processed/simpsons_cleaned_episodes.csv', index = False)"
   ]
  }
 ],
 "metadata": {
  "kernelspec": {
   "display_name": "Python 3",
   "language": "python",
   "name": "python3"
  },
  "language_info": {
   "codemirror_mode": {
    "name": "ipython",
    "version": 3
   },
   "file_extension": ".py",
   "mimetype": "text/x-python",
   "name": "python",
   "nbconvert_exporter": "python",
   "pygments_lexer": "ipython3",
   "version": "3.8.7"
  }
 },
 "nbformat": 4,
 "nbformat_minor": 5
}
